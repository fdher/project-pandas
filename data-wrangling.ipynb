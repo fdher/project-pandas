{
 "cells": [
  {
   "cell_type": "code",
   "execution_count": 410,
   "metadata": {},
   "outputs": [],
   "source": [
    "import pandas as pd\n",
    "import os"
   ]
  },
  {
   "cell_type": "code",
   "execution_count": 411,
   "metadata": {},
   "outputs": [
    {
     "name": "stdout",
     "output_type": "stream",
     "text": [
      "/c/Users/fhernandezcortez/Documents/mm/Ironhack/Modulo1/project-pandas\n"
     ]
    }
   ],
   "source": [
    "!pwd\n",
    "df=pd.read_csv('../project-pandas/attacks.csv',encoding='latin1')"
   ]
  },
  {
   "cell_type": "code",
   "execution_count": 412,
   "metadata": {},
   "outputs": [
    {
     "data": {
      "text/plain": [
       "Index(['Case Number', 'Date', 'Year', 'Type', 'Country', 'Area', 'Location',\n",
       "       'Activity', 'Name', 'Sex ', 'Age', 'Injury', 'Fatal (Y/N)', 'Time',\n",
       "       'Species ', 'Investigator or Source', 'pdf', 'href formula', 'href',\n",
       "       'Case Number2', 'Case Number3', 'original order', 'Unnamed: 22',\n",
       "       'Unnamed: 23'],\n",
       "      dtype='object')"
      ]
     },
     "execution_count": 412,
     "metadata": {},
     "output_type": "execute_result"
    }
   ],
   "source": [
    "df.columns"
   ]
  },
  {
   "cell_type": "code",
   "execution_count": 413,
   "metadata": {},
   "outputs": [
    {
     "name": "stdout",
     "output_type": "stream",
     "text": [
      "<class 'pandas.core.frame.DataFrame'>\n",
      "RangeIndex: 25723 entries, 0 to 25722\n",
      "Data columns (total 24 columns):\n",
      " #   Column                  Non-Null Count  Dtype  \n",
      "---  ------                  --------------  -----  \n",
      " 0   Case Number             8702 non-null   object \n",
      " 1   Date                    6302 non-null   object \n",
      " 2   Year                    6300 non-null   float64\n",
      " 3   Type                    6298 non-null   object \n",
      " 4   Country                 6252 non-null   object \n",
      " 5   Area                    5847 non-null   object \n",
      " 6   Location                5762 non-null   object \n",
      " 7   Activity                5758 non-null   object \n",
      " 8   Name                    6092 non-null   object \n",
      " 9   Sex                     5737 non-null   object \n",
      " 10  Age                     3471 non-null   object \n",
      " 11  Injury                  6274 non-null   object \n",
      " 12  Fatal (Y/N)             5763 non-null   object \n",
      " 13  Time                    2948 non-null   object \n",
      " 14  Species                 3464 non-null   object \n",
      " 15  Investigator or Source  6285 non-null   object \n",
      " 16  pdf                     6302 non-null   object \n",
      " 17  href formula            6301 non-null   object \n",
      " 18  href                    6302 non-null   object \n",
      " 19  Case Number2            6302 non-null   object \n",
      " 20  Case Number3            6302 non-null   object \n",
      " 21  original order          6309 non-null   float64\n",
      " 22  Unnamed: 22             1 non-null      object \n",
      " 23  Unnamed: 23             2 non-null      object \n",
      "dtypes: float64(2), object(22)\n",
      "memory usage: 4.7+ MB\n"
     ]
    },
    {
     "data": {
      "text/plain": [
       "(25723, 24)"
      ]
     },
     "execution_count": 413,
     "metadata": {},
     "output_type": "execute_result"
    }
   ],
   "source": [
    "df.info()\n",
    "df.shape"
   ]
  },
  {
   "cell_type": "markdown",
   "metadata": {},
   "source": [
    "## Drop columns"
   ]
  },
  {
   "cell_type": "code",
   "execution_count": 414,
   "metadata": {},
   "outputs": [
    {
     "data": {
      "text/plain": [
       "Case Number                object\n",
       "Date                       object\n",
       "Year                      float64\n",
       "Type                       object\n",
       "Country                    object\n",
       "Area                       object\n",
       "Location                   object\n",
       "Activity                   object\n",
       "Name                       object\n",
       "Sex                        object\n",
       "Age                        object\n",
       "Injury                     object\n",
       "Fatal (Y/N)                object\n",
       "Time                       object\n",
       "Species                    object\n",
       "Investigator or Source     object\n",
       "pdf                        object\n",
       "href formula               object\n",
       "href                       object\n",
       "Case Number2               object\n",
       "Case Number3               object\n",
       "original order            float64\n",
       "Unnamed: 22                object\n",
       "Unnamed: 23                object\n",
       "dtype: object"
      ]
     },
     "execution_count": 414,
     "metadata": {},
     "output_type": "execute_result"
    }
   ],
   "source": [
    "df.dtypes #pff muchos object types"
   ]
  },
  {
   "cell_type": "code",
   "execution_count": 415,
   "metadata": {},
   "outputs": [
    {
     "data": {
      "text/html": [
       "<div>\n",
       "<style scoped>\n",
       "    .dataframe tbody tr th:only-of-type {\n",
       "        vertical-align: middle;\n",
       "    }\n",
       "\n",
       "    .dataframe tbody tr th {\n",
       "        vertical-align: top;\n",
       "    }\n",
       "\n",
       "    .dataframe thead th {\n",
       "        text-align: right;\n",
       "    }\n",
       "</style>\n",
       "<table border=\"1\" class=\"dataframe\">\n",
       "  <thead>\n",
       "    <tr style=\"text-align: right;\">\n",
       "      <th></th>\n",
       "      <th>Case Number</th>\n",
       "      <th>Date</th>\n",
       "      <th>Year</th>\n",
       "      <th>Type</th>\n",
       "      <th>Country</th>\n",
       "      <th>Area</th>\n",
       "      <th>Location</th>\n",
       "      <th>Activity</th>\n",
       "      <th>Name</th>\n",
       "      <th>Sex</th>\n",
       "      <th>...</th>\n",
       "      <th>Species</th>\n",
       "      <th>Investigator or Source</th>\n",
       "      <th>pdf</th>\n",
       "      <th>href formula</th>\n",
       "      <th>href</th>\n",
       "      <th>Case Number2</th>\n",
       "      <th>Case Number3</th>\n",
       "      <th>original order</th>\n",
       "      <th>Unnamed: 22</th>\n",
       "      <th>Unnamed: 23</th>\n",
       "    </tr>\n",
       "  </thead>\n",
       "  <tbody>\n",
       "    <tr>\n",
       "      <th>0</th>\n",
       "      <td>False</td>\n",
       "      <td>False</td>\n",
       "      <td>False</td>\n",
       "      <td>False</td>\n",
       "      <td>False</td>\n",
       "      <td>False</td>\n",
       "      <td>False</td>\n",
       "      <td>False</td>\n",
       "      <td>False</td>\n",
       "      <td>False</td>\n",
       "      <td>...</td>\n",
       "      <td>False</td>\n",
       "      <td>False</td>\n",
       "      <td>False</td>\n",
       "      <td>False</td>\n",
       "      <td>False</td>\n",
       "      <td>False</td>\n",
       "      <td>False</td>\n",
       "      <td>False</td>\n",
       "      <td>True</td>\n",
       "      <td>True</td>\n",
       "    </tr>\n",
       "    <tr>\n",
       "      <th>1</th>\n",
       "      <td>False</td>\n",
       "      <td>False</td>\n",
       "      <td>False</td>\n",
       "      <td>False</td>\n",
       "      <td>False</td>\n",
       "      <td>False</td>\n",
       "      <td>False</td>\n",
       "      <td>False</td>\n",
       "      <td>False</td>\n",
       "      <td>False</td>\n",
       "      <td>...</td>\n",
       "      <td>True</td>\n",
       "      <td>False</td>\n",
       "      <td>False</td>\n",
       "      <td>False</td>\n",
       "      <td>False</td>\n",
       "      <td>False</td>\n",
       "      <td>False</td>\n",
       "      <td>False</td>\n",
       "      <td>True</td>\n",
       "      <td>True</td>\n",
       "    </tr>\n",
       "    <tr>\n",
       "      <th>2</th>\n",
       "      <td>False</td>\n",
       "      <td>False</td>\n",
       "      <td>False</td>\n",
       "      <td>False</td>\n",
       "      <td>False</td>\n",
       "      <td>False</td>\n",
       "      <td>False</td>\n",
       "      <td>False</td>\n",
       "      <td>False</td>\n",
       "      <td>False</td>\n",
       "      <td>...</td>\n",
       "      <td>True</td>\n",
       "      <td>False</td>\n",
       "      <td>False</td>\n",
       "      <td>False</td>\n",
       "      <td>False</td>\n",
       "      <td>False</td>\n",
       "      <td>False</td>\n",
       "      <td>False</td>\n",
       "      <td>True</td>\n",
       "      <td>True</td>\n",
       "    </tr>\n",
       "    <tr>\n",
       "      <th>3</th>\n",
       "      <td>False</td>\n",
       "      <td>False</td>\n",
       "      <td>False</td>\n",
       "      <td>False</td>\n",
       "      <td>False</td>\n",
       "      <td>False</td>\n",
       "      <td>False</td>\n",
       "      <td>False</td>\n",
       "      <td>False</td>\n",
       "      <td>False</td>\n",
       "      <td>...</td>\n",
       "      <td>False</td>\n",
       "      <td>False</td>\n",
       "      <td>False</td>\n",
       "      <td>False</td>\n",
       "      <td>False</td>\n",
       "      <td>False</td>\n",
       "      <td>False</td>\n",
       "      <td>False</td>\n",
       "      <td>True</td>\n",
       "      <td>True</td>\n",
       "    </tr>\n",
       "    <tr>\n",
       "      <th>4</th>\n",
       "      <td>False</td>\n",
       "      <td>False</td>\n",
       "      <td>False</td>\n",
       "      <td>False</td>\n",
       "      <td>False</td>\n",
       "      <td>False</td>\n",
       "      <td>False</td>\n",
       "      <td>False</td>\n",
       "      <td>False</td>\n",
       "      <td>False</td>\n",
       "      <td>...</td>\n",
       "      <td>False</td>\n",
       "      <td>False</td>\n",
       "      <td>False</td>\n",
       "      <td>False</td>\n",
       "      <td>False</td>\n",
       "      <td>False</td>\n",
       "      <td>False</td>\n",
       "      <td>False</td>\n",
       "      <td>True</td>\n",
       "      <td>True</td>\n",
       "    </tr>\n",
       "  </tbody>\n",
       "</table>\n",
       "<p>5 rows × 24 columns</p>\n",
       "</div>"
      ],
      "text/plain": [
       "   Case Number   Date   Year   Type  Country   Area  Location  Activity  \\\n",
       "0        False  False  False  False    False  False     False     False   \n",
       "1        False  False  False  False    False  False     False     False   \n",
       "2        False  False  False  False    False  False     False     False   \n",
       "3        False  False  False  False    False  False     False     False   \n",
       "4        False  False  False  False    False  False     False     False   \n",
       "\n",
       "    Name   Sex   ...  Species   Investigator or Source    pdf  href formula  \\\n",
       "0  False  False  ...     False                   False  False         False   \n",
       "1  False  False  ...      True                   False  False         False   \n",
       "2  False  False  ...      True                   False  False         False   \n",
       "3  False  False  ...     False                   False  False         False   \n",
       "4  False  False  ...     False                   False  False         False   \n",
       "\n",
       "    href  Case Number2  Case Number3  original order  Unnamed: 22  Unnamed: 23  \n",
       "0  False         False         False           False         True         True  \n",
       "1  False         False         False           False         True         True  \n",
       "2  False         False         False           False         True         True  \n",
       "3  False         False         False           False         True         True  \n",
       "4  False         False         False           False         True         True  \n",
       "\n",
       "[5 rows x 24 columns]"
      ]
     },
     "execution_count": 415,
     "metadata": {},
     "output_type": "execute_result"
    }
   ],
   "source": [
    "#procediendo a revisar nulos\n",
    "\n",
    "df.isnull().sum()\n",
    "df.isnull().head()"
   ]
  },
  {
   "cell_type": "code",
   "execution_count": 416,
   "metadata": {},
   "outputs": [
    {
     "data": {
      "text/plain": [
       "Case Number               17021\n",
       "Date                      19421\n",
       "Year                      19423\n",
       "Type                      19425\n",
       "Country                   19471\n",
       "Area                      19876\n",
       "Location                  19961\n",
       "Activity                  19965\n",
       "Name                      19631\n",
       "Sex                       19986\n",
       "Age                       22252\n",
       "Injury                    19449\n",
       "Fatal (Y/N)               19960\n",
       "Time                      22775\n",
       "Species                   22259\n",
       "Investigator or Source    19438\n",
       "pdf                       19421\n",
       "href formula              19422\n",
       "href                      19421\n",
       "Case Number2              19421\n",
       "Case Number3              19421\n",
       "original order            19414\n",
       "Unnamed: 22               25722\n",
       "Unnamed: 23               25721\n",
       "dtype: int64"
      ]
     },
     "execution_count": 416,
     "metadata": {},
     "output_type": "execute_result"
    }
   ],
   "source": [
    "nulos_columnas= df.isnull().sum()\n",
    "nulos_columnas"
   ]
  },
  {
   "cell_type": "code",
   "execution_count": 417,
   "metadata": {},
   "outputs": [
    {
     "data": {
      "text/plain": [
       "Case Number               17021\n",
       "Date                      19421\n",
       "Year                      19423\n",
       "Type                      19425\n",
       "Country                   19471\n",
       "Area                      19876\n",
       "Location                  19961\n",
       "Activity                  19965\n",
       "Name                      19631\n",
       "Sex                       19986\n",
       "Age                       22252\n",
       "Injury                    19449\n",
       "Fatal (Y/N)               19960\n",
       "Time                      22775\n",
       "Species                   22259\n",
       "Investigator or Source    19438\n",
       "pdf                       19421\n",
       "href formula              19422\n",
       "href                      19421\n",
       "Case Number2              19421\n",
       "Case Number3              19421\n",
       "original order            19414\n",
       "Unnamed: 22               25722\n",
       "Unnamed: 23               25721\n",
       "dtype: int64"
      ]
     },
     "execution_count": 417,
     "metadata": {},
     "output_type": "execute_result"
    }
   ],
   "source": [
    "nulos_columnas[nulos_columnas > 0]"
   ]
  },
  {
   "cell_type": "code",
   "execution_count": 418,
   "metadata": {},
   "outputs": [
    {
     "data": {
      "text/plain": [
       "Case Number               0.661704\n",
       "Date                      0.755005\n",
       "Year                      0.755083\n",
       "Type                      0.755161\n",
       "Country                   0.756949\n",
       "Area                      0.772694\n",
       "Location                  0.775998\n",
       "Activity                  0.776154\n",
       "Name                      0.763169\n",
       "Sex                       0.776970\n",
       "Age                       0.865062\n",
       "Injury                    0.756094\n",
       "Fatal (Y/N)               0.775959\n",
       "Time                      0.885394\n",
       "Species                   0.865335\n",
       "Investigator or Source    0.755666\n",
       "pdf                       0.755005\n",
       "href formula              0.755044\n",
       "href                      0.755005\n",
       "Case Number2              0.755005\n",
       "Case Number3              0.755005\n",
       "original order            0.754733\n",
       "Unnamed: 22               0.999961\n",
       "Unnamed: 23               0.999922\n",
       "dtype: float64"
      ]
     },
     "execution_count": 418,
     "metadata": {},
     "output_type": "execute_result"
    }
   ],
   "source": [
    "porcentaje_nulos = nulos_columnas[nulos_columnas > 0]/df.shape[0]\n",
    "porcentaje_nulos #por el resultado de porcentaje nulos nos damos cuenta de que hay una GRAN cantidad de valores nulos en nuestro df, pero Unname 22 y Unnamed 23 son 100% de datos nulos, procederemos a descartar dichas columnas\n",
    "\n",
    "porcentaje_nulos"
   ]
  },
  {
   "cell_type": "code",
   "execution_count": 419,
   "metadata": {},
   "outputs": [
    {
     "data": {
      "text/plain": [
       "Index(['Unnamed: 22', 'Unnamed: 23'], dtype='object')"
      ]
     },
     "execution_count": 419,
     "metadata": {},
     "output_type": "execute_result"
    }
   ],
   "source": [
    "columnas_a_eliminar=porcentaje_nulos[porcentaje_nulos>0.99].index\n",
    "columnas_a_eliminar"
   ]
  },
  {
   "cell_type": "code",
   "execution_count": 420,
   "metadata": {},
   "outputs": [
    {
     "name": "stdout",
     "output_type": "stream",
     "text": [
      "<class 'pandas.core.frame.DataFrame'>\n",
      "RangeIndex: 25723 entries, 0 to 25722\n",
      "Data columns (total 22 columns):\n",
      " #   Column                  Non-Null Count  Dtype  \n",
      "---  ------                  --------------  -----  \n",
      " 0   Case Number             8702 non-null   object \n",
      " 1   Date                    6302 non-null   object \n",
      " 2   Year                    6300 non-null   float64\n",
      " 3   Type                    6298 non-null   object \n",
      " 4   Country                 6252 non-null   object \n",
      " 5   Area                    5847 non-null   object \n",
      " 6   Location                5762 non-null   object \n",
      " 7   Activity                5758 non-null   object \n",
      " 8   Name                    6092 non-null   object \n",
      " 9   Sex                     5737 non-null   object \n",
      " 10  Age                     3471 non-null   object \n",
      " 11  Injury                  6274 non-null   object \n",
      " 12  Fatal (Y/N)             5763 non-null   object \n",
      " 13  Time                    2948 non-null   object \n",
      " 14  Species                 3464 non-null   object \n",
      " 15  Investigator or Source  6285 non-null   object \n",
      " 16  pdf                     6302 non-null   object \n",
      " 17  href formula            6301 non-null   object \n",
      " 18  href                    6302 non-null   object \n",
      " 19  Case Number2            6302 non-null   object \n",
      " 20  Case Number3            6302 non-null   object \n",
      " 21  original order          6309 non-null   float64\n",
      "dtypes: float64(2), object(20)\n",
      "memory usage: 4.3+ MB\n"
     ]
    }
   ],
   "source": [
    "#eliminando columnas 22 y 23\n",
    "df.drop(columns = columnas_a_eliminar, inplace = True)\n",
    "df.info() #Case number me esta generando algo de ruido, vamos a ver si tienen los mismos valores que 2 y 3\n",
    "\n",
    "df['Case Number3'].equals(df['Case Number2'].equals(df['Case Number'])) #no es copia de 2 o Case Number, revisemos que datos contiene\n",
    "df['Case Number3'].isin(df['Case Number2']).value_counts() #el numero de valores de Case Number 1 que se repiten en Case Number 2, son 25704, son casi similares, procederemos a eliminar Case Number 1 tambien\n",
    "df.drop(columns = 'Case Number2', inplace = True)\n",
    "#hagamos lo mismo con la columna Case Number\n",
    "\n",
    "df['Case Number'].equals(df['Case Number3']) #no son identicos, pero cuantos valores identicos habra?\n",
    "\n",
    "df['Case Number3'].isin(df['Case Number']).value_counts() #25k valores son iguales de case number.2 a case number, 4 valores unicos, procediendo a eliminar esta columna tambien\n",
    "df.drop(columns = 'Case Number3', inplace = True)"
   ]
  },
  {
   "cell_type": "code",
   "execution_count": 421,
   "metadata": {},
   "outputs": [],
   "source": [
    "#por ultimo, hay columnas que no creo que sean representativas o de utilidad para el analisis de datos, como location, age, investigator or source, pdf, href y href formula y original order. La idea (infiero), es encontrar una relacion de cual seria el tiburon mas peligroso, el sexo al cual mas muertes han acontecido\n",
    "# o bien, el pais donde mas personas han muerto. Sobre esta hipotesis, menos columnas daria mejores resultados\n",
    "\n",
    "columnas_a_eliminar2=['Age','Investigator or Source','pdf','href formula','href','original order','Location','Date','Year','Name']\n",
    "\n",
    "df.drop(columns=columnas_a_eliminar2,inplace=True)"
   ]
  },
  {
   "cell_type": "code",
   "execution_count": 422,
   "metadata": {},
   "outputs": [
    {
     "data": {
      "text/html": [
       "<div>\n",
       "<style scoped>\n",
       "    .dataframe tbody tr th:only-of-type {\n",
       "        vertical-align: middle;\n",
       "    }\n",
       "\n",
       "    .dataframe tbody tr th {\n",
       "        vertical-align: top;\n",
       "    }\n",
       "\n",
       "    .dataframe thead th {\n",
       "        text-align: right;\n",
       "    }\n",
       "</style>\n",
       "<table border=\"1\" class=\"dataframe\">\n",
       "  <thead>\n",
       "    <tr style=\"text-align: right;\">\n",
       "      <th></th>\n",
       "      <th>Case Number</th>\n",
       "      <th>Type</th>\n",
       "      <th>Country</th>\n",
       "      <th>Area</th>\n",
       "      <th>Activity</th>\n",
       "      <th>Sex</th>\n",
       "      <th>Injury</th>\n",
       "      <th>Fatal (Y/N)</th>\n",
       "      <th>Time</th>\n",
       "      <th>Species</th>\n",
       "    </tr>\n",
       "  </thead>\n",
       "  <tbody>\n",
       "    <tr>\n",
       "      <th>0</th>\n",
       "      <td>2018.06.25</td>\n",
       "      <td>Boating</td>\n",
       "      <td>USA</td>\n",
       "      <td>California</td>\n",
       "      <td>Paddling</td>\n",
       "      <td>F</td>\n",
       "      <td>No injury to occupant, outrigger canoe and pad...</td>\n",
       "      <td>N</td>\n",
       "      <td>18h00</td>\n",
       "      <td>White shark</td>\n",
       "    </tr>\n",
       "    <tr>\n",
       "      <th>1</th>\n",
       "      <td>2018.06.18</td>\n",
       "      <td>Unprovoked</td>\n",
       "      <td>USA</td>\n",
       "      <td>Georgia</td>\n",
       "      <td>Standing</td>\n",
       "      <td>F</td>\n",
       "      <td>Minor injury to left thigh</td>\n",
       "      <td>N</td>\n",
       "      <td>14h00  -15h00</td>\n",
       "      <td>NaN</td>\n",
       "    </tr>\n",
       "    <tr>\n",
       "      <th>2</th>\n",
       "      <td>2018.06.09</td>\n",
       "      <td>Invalid</td>\n",
       "      <td>USA</td>\n",
       "      <td>Hawaii</td>\n",
       "      <td>Surfing</td>\n",
       "      <td>M</td>\n",
       "      <td>Injury to left lower leg from surfboard skeg</td>\n",
       "      <td>N</td>\n",
       "      <td>07h45</td>\n",
       "      <td>NaN</td>\n",
       "    </tr>\n",
       "    <tr>\n",
       "      <th>3</th>\n",
       "      <td>2018.06.08</td>\n",
       "      <td>Unprovoked</td>\n",
       "      <td>AUSTRALIA</td>\n",
       "      <td>New South Wales</td>\n",
       "      <td>Surfing</td>\n",
       "      <td>M</td>\n",
       "      <td>Minor injury to lower leg</td>\n",
       "      <td>N</td>\n",
       "      <td>NaN</td>\n",
       "      <td>2 m shark</td>\n",
       "    </tr>\n",
       "    <tr>\n",
       "      <th>4</th>\n",
       "      <td>2018.06.04</td>\n",
       "      <td>Provoked</td>\n",
       "      <td>MEXICO</td>\n",
       "      <td>Colima</td>\n",
       "      <td>Free diving</td>\n",
       "      <td>M</td>\n",
       "      <td>Lacerations to leg &amp; hand shark PROVOKED INCIDENT</td>\n",
       "      <td>N</td>\n",
       "      <td>NaN</td>\n",
       "      <td>Tiger shark, 3m</td>\n",
       "    </tr>\n",
       "  </tbody>\n",
       "</table>\n",
       "</div>"
      ],
      "text/plain": [
       "  Case Number        Type    Country             Area     Activity Sex   \\\n",
       "0  2018.06.25     Boating        USA       California     Paddling    F   \n",
       "1  2018.06.18  Unprovoked        USA          Georgia     Standing    F   \n",
       "2  2018.06.09     Invalid        USA           Hawaii      Surfing    M   \n",
       "3  2018.06.08  Unprovoked  AUSTRALIA  New South Wales      Surfing    M   \n",
       "4  2018.06.04    Provoked     MEXICO           Colima  Free diving    M   \n",
       "\n",
       "                                              Injury Fatal (Y/N)  \\\n",
       "0  No injury to occupant, outrigger canoe and pad...           N   \n",
       "1                         Minor injury to left thigh           N   \n",
       "2       Injury to left lower leg from surfboard skeg           N   \n",
       "3                          Minor injury to lower leg           N   \n",
       "4  Lacerations to leg & hand shark PROVOKED INCIDENT           N   \n",
       "\n",
       "            Time         Species   \n",
       "0          18h00      White shark  \n",
       "1  14h00  -15h00              NaN  \n",
       "2          07h45              NaN  \n",
       "3            NaN        2 m shark  \n",
       "4            NaN  Tiger shark, 3m  "
      ]
     },
     "execution_count": 422,
     "metadata": {},
     "output_type": "execute_result"
    }
   ],
   "source": [
    "df.shape\n",
    "df.head()"
   ]
  },
  {
   "cell_type": "markdown",
   "metadata": {},
   "source": [
    "## Country column"
   ]
  },
  {
   "cell_type": "code",
   "execution_count": 423,
   "metadata": {},
   "outputs": [],
   "source": [
    "#estandarizando la columna de country. en general no esta muy sucia, solamente podriamos actualizar algunos paises\n",
    "df['Country'].fillna('Unknown',inplace=True)\n"
   ]
  },
  {
   "cell_type": "code",
   "execution_count": 424,
   "metadata": {},
   "outputs": [],
   "source": [
    "df['Country'] = df['Country'].str.strip().str.upper()"
   ]
  },
  {
   "cell_type": "code",
   "execution_count": 425,
   "metadata": {},
   "outputs": [
    {
     "name": "stdout",
     "output_type": "stream",
     "text": [
      "{'UNITED KINGDOM', 'NORTH SEA', 'MALAYSIA', 'FALKLAND ISLANDS', 'GREECE', 'IRAQ', 'BERMUDA', 'MALDIVES', 'CARIBBEAN SEA', 'ECUADOR', 'SCOTLAND', 'BAHAMAS', 'RED SEA / INDIAN OCEAN', 'NORTH PACIFIC OCEAN', 'AZORES', 'SOUTH ATLANTIC OCEAN', 'OKINAWA', 'ASIA?', 'SUDAN?', 'ST HELENA, BRITISH OVERSEAS TERRITORY', 'TAIWAN', 'CANADA', 'SLOVENIA', 'PALAU', 'BETWEEN PORTUGAL & INDIA', 'ENGLAND', 'NORTH ATLANTIC OCEAN', 'SRI LANKA', 'USA', 'ARGENTINA', 'WESTERN SAMOA', 'ITALY / CROATIA', 'THE BALKANS', 'GHANA', 'NORTHERN MARIANA ISLANDS', 'ANDAMAN / NICOBAR ISLANDAS', 'MID-PACIFC OCEAN', 'JOHNSTON ISLAND', 'INDIAN OCEAN', 'CAYMAN ISLANDS', 'IRAN', 'SEYCHELLES', 'SWEDEN', 'BRITISH ISLES', 'BRITISH VIRGIN ISLANDS', 'AMERICAN SAMOA', 'EGYPT / ISRAEL', 'UNKNOWN', 'TOBAGO', 'PERSIAN GULF', 'TURKS & CAICOS', 'VIETNAM', 'TUNISIA', 'COOK ISLANDS', 'SOUTH PACIFIC OCEAN', 'EGYPT', 'ST. MARTIN', 'CURACAO', 'COSTA RICA', 'SAMOA', 'NORTHERN ARABIAN SEA', 'CUBA', 'GRAND CAYMAN', 'IRAN / IRAQ', 'GUATEMALA', 'NETHERLANDS ANTILLES', 'ISRAEL', 'TONGA', 'TUVALU', 'MONTENEGRO', 'SOLOMON ISLANDS', 'MICRONESIA', 'GUINEA', 'CEYLON', 'SINGAPORE', 'PALESTINIAN TERRITORIES', 'TANZANIA', 'COLUMBIA', 'MARTINIQUE', 'SAN DOMINGO', 'GREENLAND', 'PUERTO RICO', 'SOUTH AFRICA', 'BRITISH NEW GUINEA', 'ROATAN', 'ANTIGUA', 'FRENCH POLYNESIA', 'NAMIBIA', 'MALTA', 'BURMA', 'LIBERIA', 'CAPE VERDE', 'GUYANA', 'REUNION', 'MEXICO', 'COAST OF AFRICA', 'BAY OF BENGAL', 'ATLANTIC OCEAN', 'REUNION ISLAND', 'RED SEA', 'JAMAICA', 'CHILE', 'ST. MAARTIN', 'VANUATU', 'HONG KONG', 'SOUTH CHINA SEA', 'NEW CALEDONIA', 'ADMIRALTY ISLANDS', 'ANGOLA', 'AFRICA', 'GULF OF ADEN', 'SENEGAL', 'CROATIA', 'DJIBOUTI', 'SOMALIA', 'NEW GUINEA', 'OCEAN', 'LIBYA', 'GABON', 'BRAZIL', 'FRANCE', 'SYRIA', 'NIGERIA', 'PAPUA NEW GUINEA', 'DIEGO GARCIA', 'GEORGIA', 'MEDITERRANEAN SEA', 'BRITISH WEST INDIES', 'JAVA', 'NEW ZEALAND', 'INDONESIA', 'YEMEN', 'HAITI', 'IRELAND', 'BELIZE', 'TRINIDAD & TOBAGO', 'NEVIS', 'INDIA', 'MAYOTTE', 'ITALY', 'TURKEY', 'SUDAN', 'ICELAND', 'WEST INDIES', 'PARAGUAY', 'PERU', 'MOZAMBIQUE', 'BAHREIN', 'TASMAN SEA', 'SOUTHWEST PACIFIC OCEAN', 'PACIFIC OCEAN', 'CRETE', 'NEW BRITAIN', 'BANGLADESH', 'NICARAGUA', 'KUWAIT', 'INDIAN OCEAN?', 'RUSSIA', 'GRENADA', 'KIRIBATI', 'FEDERATED STATES OF MICRONESIA', 'VENEZUELA', 'ANDAMAN ISLANDS', 'SOLOMON ISLANDS / VANUATU', 'CYPRUS', 'RED SEA?', 'MID ATLANTIC OCEAN', 'HONDURAS', 'MADAGASCAR', 'KOREA', 'SIERRA LEONE', 'KENYA', 'AUSTRALIA', 'CHINA', 'GUAM', 'SPAIN', 'JAPAN', 'COMOROS', 'SAUDI ARABIA', 'MARSHALL ISLANDS', 'MALDIVE ISLANDS', 'EL SALVADOR', 'ARUBA', 'MONACO', 'PORTUGAL', 'THAILAND', 'EQUATORIAL GUINEA / CAMEROON', 'PANAMA', 'DOMINICAN REPUBLIC', 'URUGUAY', 'NORWAY', 'BARBADOS', 'FIJI', 'PHILIPPINES', 'ALGERIA', 'UNITED ARAB EMIRATES', 'LEBANON', 'MAURITIUS', 'SOUTH KOREA', 'CENTRAL PACIFIC'}\n"
     ]
    }
   ],
   "source": [
    "df[\"Country\"] = df[\"Country\"].replace({\"UNITED ARAB EMIRATES (UAE)\":\"UNITED ARAB EMIRATES\",'CEYLON (SRI LANKA)':'SRI LANKA'})\n",
    "print(set(df['Country']))"
   ]
  },
  {
   "cell_type": "code",
   "execution_count": 426,
   "metadata": {},
   "outputs": [
    {
     "data": {
      "text/plain": [
       "UNKNOWN                       19471\n",
       "USA                            2229\n",
       "AUSTRALIA                      1338\n",
       "SOUTH AFRICA                    579\n",
       "PAPUA NEW GUINEA                134\n",
       "                              ...  \n",
       "GABON                             1\n",
       "ANDAMAN / NICOBAR ISLANDAS        1\n",
       "MALDIVE ISLANDS                   1\n",
       "PUERTO RICO                       1\n",
       "ASIA?                             1\n",
       "Name: Country, Length: 200, dtype: int64"
      ]
     },
     "execution_count": 426,
     "metadata": {},
     "output_type": "execute_result"
    }
   ],
   "source": [
    "df.Country.value_counts()"
   ]
  },
  {
   "cell_type": "markdown",
   "metadata": {},
   "source": [
    "## Fatal column"
   ]
  },
  {
   "cell_type": "code",
   "execution_count": 427,
   "metadata": {},
   "outputs": [
    {
     "data": {
      "text/plain": [
       "array(['N', 'Y', nan, 'M', 'UNKNOWN', '2017', ' N', 'N ', 'y'],\n",
       "      dtype=object)"
      ]
     },
     "execution_count": 427,
     "metadata": {},
     "output_type": "execute_result"
    }
   ],
   "source": [
    "#revisemos los valores de fatalidad\n",
    "df['Fatal (Y/N)'].unique()\n",
    "df['Fatal (Y/N)'].value_counts()\n",
    "\n",
    "df['Fatal (Y/N)'].unique()\n",
    "#del value counts nos damos cuenta de tres valores relevantes, Nonfatal, fatal y UNKNOWN, mi estrategia seria agrupar todos los valores bajo estos tres parametros"
   ]
  },
  {
   "cell_type": "code",
   "execution_count": 428,
   "metadata": {},
   "outputs": [],
   "source": [
    "#estandarizar fatalidad\n",
    "df['Fatal (Y/N)'] = df['Fatal (Y/N)'].fillna('U')\n",
    "df['Fatal (Y/N)'] = df['Fatal (Y/N)'].str.replace(' N', 'N')\n",
    "df['Fatal (Y/N)'] = df['Fatal (Y/N)'].str.replace('N ', 'N')\n",
    "df['Fatal (Y/N)'] = df['Fatal (Y/N)'].str.replace('2017', 'U')\n",
    "df['Fatal (Y/N)'] = df['Fatal (Y/N)'].str.replace('M', 'N')\n",
    "df['Fatal (Y/N)'] = df['Fatal (Y/N)'].str.replace('y', 'Y')\n",
    "df['Fatal (Y/N)'] = df['Fatal (Y/N)'].str.replace('UNKNOWN', 'U')\n",
    "df.rename(columns={'Fatal (Y/N)': 'Fatal (Y/N/U)'}, inplace=True)"
   ]
  },
  {
   "cell_type": "code",
   "execution_count": 429,
   "metadata": {},
   "outputs": [
    {
     "data": {
      "text/plain": [
       "U    20032\n",
       "N     4302\n",
       "Y     1389\n",
       "Name: Fatal (Y/N/U), dtype: int64"
      ]
     },
     "execution_count": 429,
     "metadata": {},
     "output_type": "execute_result"
    }
   ],
   "source": [
    "df['Fatal (Y/N/U)'].unique()\n",
    "df['Fatal (Y/N/U)'].value_counts()"
   ]
  },
  {
   "cell_type": "markdown",
   "metadata": {},
   "source": [
    "## Age column (al final decidi descartar esta columna de mi Df, pero por la complejidad de las strings no la inclui, imagino que se haria un proceso similar al siguiente)"
   ]
  },
  {
   "cell_type": "code",
   "execution_count": 430,
   "metadata": {},
   "outputs": [
    {
     "ename": "AttributeError",
     "evalue": "'DataFrame' object has no attribute 'age'",
     "output_type": "error",
     "traceback": [
      "\u001b[1;31m---------------------------------------------------------------------------\u001b[0m",
      "\u001b[1;31mAttributeError\u001b[0m                            Traceback (most recent call last)",
      "\u001b[1;32mc:\\Users\\fhernandezcortez\\Documents\\mm\\Ironhack\\Modulo1\\project-pandas\\data-wrangling.ipynb Cell 25'\u001b[0m in \u001b[0;36m<cell line: 3>\u001b[1;34m()\u001b[0m\n\u001b[0;32m      <a href='vscode-notebook-cell:/c%3A/Users/fhernandezcortez/Documents/mm/Ironhack/Modulo1/project-pandas/data-wrangling.ipynb#ch0000016?line=0'>1</a>\u001b[0m \u001b[39m#estandarizar edades\u001b[39;00m\n\u001b[1;32m----> <a href='vscode-notebook-cell:/c%3A/Users/fhernandezcortez/Documents/mm/Ironhack/Modulo1/project-pandas/data-wrangling.ipynb#ch0000016?line=2'>3</a>\u001b[0m df\u001b[39m.\u001b[39;49mage\u001b[39m.\u001b[39mvalue_counts()\n\u001b[0;32m      <a href='vscode-notebook-cell:/c%3A/Users/fhernandezcortez/Documents/mm/Ironhack/Modulo1/project-pandas/data-wrangling.ipynb#ch0000016?line=3'>4</a>\u001b[0m df[\u001b[39m\"\u001b[39m\u001b[39mAge\u001b[39m\u001b[39m\"\u001b[39m] \u001b[39m=\u001b[39m df[\u001b[39m\"\u001b[39m\u001b[39mAge\u001b[39m\u001b[39m\"\u001b[39m]\u001b[39m.\u001b[39mreplace({\u001b[39m\"\u001b[39m\u001b[39m20s\u001b[39m\u001b[39m\"\u001b[39m:\u001b[39m\"\u001b[39m\u001b[39m25\u001b[39m\u001b[39m\"\u001b[39m, \u001b[39m\"\u001b[39m\u001b[39m30s\u001b[39m\u001b[39m\"\u001b[39m:\u001b[39m\"\u001b[39m\u001b[39m35\u001b[39m\u001b[39m\"\u001b[39m, \u001b[39m\"\u001b[39m\u001b[39mteen\u001b[39m\u001b[39m\"\u001b[39m: \u001b[39m\"\u001b[39m\u001b[39m15\u001b[39m\u001b[39m\"\u001b[39m, \u001b[39m\"\u001b[39m\u001b[39mTeen\u001b[39m\u001b[39m\"\u001b[39m: \u001b[39m\"\u001b[39m\u001b[39m15\u001b[39m\u001b[39m\"\u001b[39m, \u001b[39m\"\u001b[39m\u001b[39mmid-30s\u001b[39m\u001b[39m\"\u001b[39m:\u001b[39m\"\u001b[39m\u001b[39m35\u001b[39m\u001b[39m\"\u001b[39m, \u001b[39m\"\u001b[39m\u001b[39m21 or 26\u001b[39m\u001b[39m\"\u001b[39m:\u001b[39m\"\u001b[39m\u001b[39m24\u001b[39m\u001b[39m\"\u001b[39m, \u001b[39m\"\u001b[39m\u001b[39m60\u001b[39m\u001b[39m'\u001b[39m\u001b[39ms\u001b[39m\u001b[39m\"\u001b[39m:\u001b[39m\"\u001b[39m\u001b[39m65\u001b[39m\u001b[39m\"\u001b[39m, \u001b[39m\"\u001b[39m\u001b[39m60s\u001b[39m\u001b[39m\"\u001b[39m:\u001b[39m\"\u001b[39m\u001b[39m65\u001b[39m\u001b[39m\"\u001b[39m, \u001b[39m\"\u001b[39m\u001b[39m12 or 13\u001b[39m\u001b[39m\"\u001b[39m:\u001b[39m\"\u001b[39m\u001b[39m12\u001b[39m\u001b[39m\"\u001b[39m, \u001b[39m\"\u001b[39m\u001b[39m50s\u001b[39m\u001b[39m\"\u001b[39m:\u001b[39m\"\u001b[39m\u001b[39m55\u001b[39m\u001b[39m\"\u001b[39m, \u001b[39m\"\u001b[39m\u001b[39m9 & 12\u001b[39m\u001b[39m\"\u001b[39m:\u001b[39m\"\u001b[39m\u001b[39m9\u001b[39m\u001b[39m\"\u001b[39m, \u001b[39m\"\u001b[39m\u001b[39mElderly\u001b[39m\u001b[39m\"\u001b[39m: \u001b[39m\"\u001b[39m\u001b[39m60\u001b[39m\u001b[39m\"\u001b[39m, \u001b[39m\"\u001b[39m\u001b[39m6½\u001b[39m\u001b[39m\"\u001b[39m:\u001b[39m\"\u001b[39m\u001b[39m6\u001b[39m\u001b[39m\"\u001b[39m})\n\u001b[0;32m      <a href='vscode-notebook-cell:/c%3A/Users/fhernandezcortez/Documents/mm/Ironhack/Modulo1/project-pandas/data-wrangling.ipynb#ch0000016?line=4'>5</a>\u001b[0m df[\u001b[39m'\u001b[39m\u001b[39mAge\u001b[39m\u001b[39m'\u001b[39m]\u001b[39m.\u001b[39mfillna(\u001b[39m'\u001b[39m\u001b[39mUnknown\u001b[39m\u001b[39m'\u001b[39m,inplace\u001b[39m=\u001b[39m\u001b[39mTrue\u001b[39;00m)\n",
      "File \u001b[1;32mc:\\Users\\fhernandezcortez\\Anaconda3\\lib\\site-packages\\pandas\\core\\generic.py:5575\u001b[0m, in \u001b[0;36mNDFrame.__getattr__\u001b[1;34m(self, name)\u001b[0m\n\u001b[0;32m   <a href='file:///c%3A/Users/fhernandezcortez/Anaconda3/lib/site-packages/pandas/core/generic.py?line=5567'>5568</a>\u001b[0m \u001b[39mif\u001b[39;00m (\n\u001b[0;32m   <a href='file:///c%3A/Users/fhernandezcortez/Anaconda3/lib/site-packages/pandas/core/generic.py?line=5568'>5569</a>\u001b[0m     name \u001b[39mnot\u001b[39;00m \u001b[39min\u001b[39;00m \u001b[39mself\u001b[39m\u001b[39m.\u001b[39m_internal_names_set\n\u001b[0;32m   <a href='file:///c%3A/Users/fhernandezcortez/Anaconda3/lib/site-packages/pandas/core/generic.py?line=5569'>5570</a>\u001b[0m     \u001b[39mand\u001b[39;00m name \u001b[39mnot\u001b[39;00m \u001b[39min\u001b[39;00m \u001b[39mself\u001b[39m\u001b[39m.\u001b[39m_metadata\n\u001b[0;32m   <a href='file:///c%3A/Users/fhernandezcortez/Anaconda3/lib/site-packages/pandas/core/generic.py?line=5570'>5571</a>\u001b[0m     \u001b[39mand\u001b[39;00m name \u001b[39mnot\u001b[39;00m \u001b[39min\u001b[39;00m \u001b[39mself\u001b[39m\u001b[39m.\u001b[39m_accessors\n\u001b[0;32m   <a href='file:///c%3A/Users/fhernandezcortez/Anaconda3/lib/site-packages/pandas/core/generic.py?line=5571'>5572</a>\u001b[0m     \u001b[39mand\u001b[39;00m \u001b[39mself\u001b[39m\u001b[39m.\u001b[39m_info_axis\u001b[39m.\u001b[39m_can_hold_identifiers_and_holds_name(name)\n\u001b[0;32m   <a href='file:///c%3A/Users/fhernandezcortez/Anaconda3/lib/site-packages/pandas/core/generic.py?line=5572'>5573</a>\u001b[0m ):\n\u001b[0;32m   <a href='file:///c%3A/Users/fhernandezcortez/Anaconda3/lib/site-packages/pandas/core/generic.py?line=5573'>5574</a>\u001b[0m     \u001b[39mreturn\u001b[39;00m \u001b[39mself\u001b[39m[name]\n\u001b[1;32m-> <a href='file:///c%3A/Users/fhernandezcortez/Anaconda3/lib/site-packages/pandas/core/generic.py?line=5574'>5575</a>\u001b[0m \u001b[39mreturn\u001b[39;00m \u001b[39mobject\u001b[39;49m\u001b[39m.\u001b[39;49m\u001b[39m__getattribute__\u001b[39;49m(\u001b[39mself\u001b[39;49m, name)\n",
      "\u001b[1;31mAttributeError\u001b[0m: 'DataFrame' object has no attribute 'age'"
     ]
    }
   ],
   "source": [
    "#estandarizar edades\n",
    "        \n",
    "df.age.value_counts()\n",
    "df[\"Age\"] = df[\"Age\"].replace({\"20s\":\"25\", \"30s\":\"35\", \"teen\": \"15\", \"Teen\": \"15\", \"mid-30s\":\"35\", \"21 or 26\":\"24\", \"60's\":\"65\", \"60s\":\"65\", \"12 or 13\":\"12\", \"50s\":\"55\", \"9 & 12\":\"9\", \"Elderly\": \"60\", \"6½\":\"6\"})\n",
    "df['Age'].fillna('Unknown',inplace=True)"
   ]
  },
  {
   "cell_type": "code",
   "execution_count": 431,
   "metadata": {},
   "outputs": [
    {
     "ename": "AttributeError",
     "evalue": "'DataFrame' object has no attribute 'Age'",
     "output_type": "error",
     "traceback": [
      "\u001b[1;31m---------------------------------------------------------------------------\u001b[0m",
      "\u001b[1;31mAttributeError\u001b[0m                            Traceback (most recent call last)",
      "\u001b[1;32mc:\\Users\\fhernandezcortez\\Documents\\mm\\Ironhack\\Modulo1\\project-pandas\\data-wrangling.ipynb Cell 26'\u001b[0m in \u001b[0;36m<cell line: 1>\u001b[1;34m()\u001b[0m\n\u001b[1;32m----> <a href='vscode-notebook-cell:/c%3A/Users/fhernandezcortez/Documents/mm/Ironhack/Modulo1/project-pandas/data-wrangling.ipynb#ch0000061?line=0'>1</a>\u001b[0m df\u001b[39m.\u001b[39mAge \u001b[39m=\u001b[39m df\u001b[39m.\u001b[39;49mAge\u001b[39m.\u001b[39mfillna(\u001b[39m\"\u001b[39m\u001b[39m0\u001b[39m\u001b[39m\"\u001b[39m)\n\u001b[0;32m      <a href='vscode-notebook-cell:/c%3A/Users/fhernandezcortez/Documents/mm/Ironhack/Modulo1/project-pandas/data-wrangling.ipynb#ch0000061?line=2'>3</a>\u001b[0m \u001b[39mfor\u001b[39;00m a \u001b[39min\u001b[39;00m df\u001b[39m.\u001b[39mAge:\n\u001b[0;32m      <a href='vscode-notebook-cell:/c%3A/Users/fhernandezcortez/Documents/mm/Ironhack/Modulo1/project-pandas/data-wrangling.ipynb#ch0000061?line=3'>4</a>\u001b[0m     \u001b[39mif\u001b[39;00m \u001b[39mlen\u001b[39m(\u001b[39mstr\u001b[39m(a)) \u001b[39m>\u001b[39m \u001b[39m2\u001b[39m:\n",
      "File \u001b[1;32mc:\\Users\\fhernandezcortez\\Anaconda3\\lib\\site-packages\\pandas\\core\\generic.py:5575\u001b[0m, in \u001b[0;36mNDFrame.__getattr__\u001b[1;34m(self, name)\u001b[0m\n\u001b[0;32m   <a href='file:///c%3A/Users/fhernandezcortez/Anaconda3/lib/site-packages/pandas/core/generic.py?line=5567'>5568</a>\u001b[0m \u001b[39mif\u001b[39;00m (\n\u001b[0;32m   <a href='file:///c%3A/Users/fhernandezcortez/Anaconda3/lib/site-packages/pandas/core/generic.py?line=5568'>5569</a>\u001b[0m     name \u001b[39mnot\u001b[39;00m \u001b[39min\u001b[39;00m \u001b[39mself\u001b[39m\u001b[39m.\u001b[39m_internal_names_set\n\u001b[0;32m   <a href='file:///c%3A/Users/fhernandezcortez/Anaconda3/lib/site-packages/pandas/core/generic.py?line=5569'>5570</a>\u001b[0m     \u001b[39mand\u001b[39;00m name \u001b[39mnot\u001b[39;00m \u001b[39min\u001b[39;00m \u001b[39mself\u001b[39m\u001b[39m.\u001b[39m_metadata\n\u001b[0;32m   <a href='file:///c%3A/Users/fhernandezcortez/Anaconda3/lib/site-packages/pandas/core/generic.py?line=5570'>5571</a>\u001b[0m     \u001b[39mand\u001b[39;00m name \u001b[39mnot\u001b[39;00m \u001b[39min\u001b[39;00m \u001b[39mself\u001b[39m\u001b[39m.\u001b[39m_accessors\n\u001b[0;32m   <a href='file:///c%3A/Users/fhernandezcortez/Anaconda3/lib/site-packages/pandas/core/generic.py?line=5571'>5572</a>\u001b[0m     \u001b[39mand\u001b[39;00m \u001b[39mself\u001b[39m\u001b[39m.\u001b[39m_info_axis\u001b[39m.\u001b[39m_can_hold_identifiers_and_holds_name(name)\n\u001b[0;32m   <a href='file:///c%3A/Users/fhernandezcortez/Anaconda3/lib/site-packages/pandas/core/generic.py?line=5572'>5573</a>\u001b[0m ):\n\u001b[0;32m   <a href='file:///c%3A/Users/fhernandezcortez/Anaconda3/lib/site-packages/pandas/core/generic.py?line=5573'>5574</a>\u001b[0m     \u001b[39mreturn\u001b[39;00m \u001b[39mself\u001b[39m[name]\n\u001b[1;32m-> <a href='file:///c%3A/Users/fhernandezcortez/Anaconda3/lib/site-packages/pandas/core/generic.py?line=5574'>5575</a>\u001b[0m \u001b[39mreturn\u001b[39;00m \u001b[39mobject\u001b[39;49m\u001b[39m.\u001b[39;49m\u001b[39m__getattribute__\u001b[39;49m(\u001b[39mself\u001b[39;49m, name)\n",
      "\u001b[1;31mAttributeError\u001b[0m: 'DataFrame' object has no attribute 'Age'"
     ]
    }
   ],
   "source": [
    "df.Age = df.Age.fillna(\"0\")\n",
    "\n",
    "for a in df.Age:\n",
    "    if len(str(a)) > 2:\n",
    "        df.Age.replace(a,a[:2],inplace=True)\n",
    "        \n",
    "df.Age.value_counts()"
   ]
  },
  {
   "cell_type": "code",
   "execution_count": 432,
   "metadata": {},
   "outputs": [
    {
     "ename": "KeyError",
     "evalue": "'Age'",
     "output_type": "error",
     "traceback": [
      "\u001b[1;31m---------------------------------------------------------------------------\u001b[0m",
      "\u001b[1;31mKeyError\u001b[0m                                  Traceback (most recent call last)",
      "File \u001b[1;32mc:\\Users\\fhernandezcortez\\Anaconda3\\lib\\site-packages\\pandas\\core\\indexes\\base.py:3621\u001b[0m, in \u001b[0;36mIndex.get_loc\u001b[1;34m(self, key, method, tolerance)\u001b[0m\n\u001b[0;32m   <a href='file:///c%3A/Users/fhernandezcortez/Anaconda3/lib/site-packages/pandas/core/indexes/base.py?line=3619'>3620</a>\u001b[0m \u001b[39mtry\u001b[39;00m:\n\u001b[1;32m-> <a href='file:///c%3A/Users/fhernandezcortez/Anaconda3/lib/site-packages/pandas/core/indexes/base.py?line=3620'>3621</a>\u001b[0m     \u001b[39mreturn\u001b[39;00m \u001b[39mself\u001b[39;49m\u001b[39m.\u001b[39;49m_engine\u001b[39m.\u001b[39;49mget_loc(casted_key)\n\u001b[0;32m   <a href='file:///c%3A/Users/fhernandezcortez/Anaconda3/lib/site-packages/pandas/core/indexes/base.py?line=3621'>3622</a>\u001b[0m \u001b[39mexcept\u001b[39;00m \u001b[39mKeyError\u001b[39;00m \u001b[39mas\u001b[39;00m err:\n",
      "File \u001b[1;32mc:\\Users\\fhernandezcortez\\Anaconda3\\lib\\site-packages\\pandas\\_libs\\index.pyx:136\u001b[0m, in \u001b[0;36mpandas._libs.index.IndexEngine.get_loc\u001b[1;34m()\u001b[0m\n",
      "File \u001b[1;32mc:\\Users\\fhernandezcortez\\Anaconda3\\lib\\site-packages\\pandas\\_libs\\index.pyx:163\u001b[0m, in \u001b[0;36mpandas._libs.index.IndexEngine.get_loc\u001b[1;34m()\u001b[0m\n",
      "File \u001b[1;32mpandas\\_libs\\hashtable_class_helper.pxi:5198\u001b[0m, in \u001b[0;36mpandas._libs.hashtable.PyObjectHashTable.get_item\u001b[1;34m()\u001b[0m\n",
      "File \u001b[1;32mpandas\\_libs\\hashtable_class_helper.pxi:5206\u001b[0m, in \u001b[0;36mpandas._libs.hashtable.PyObjectHashTable.get_item\u001b[1;34m()\u001b[0m\n",
      "\u001b[1;31mKeyError\u001b[0m: 'Age'",
      "\nThe above exception was the direct cause of the following exception:\n",
      "\u001b[1;31mKeyError\u001b[0m                                  Traceback (most recent call last)",
      "\u001b[1;32mc:\\Users\\fhernandezcortez\\Documents\\mm\\Ironhack\\Modulo1\\project-pandas\\data-wrangling.ipynb Cell 27'\u001b[0m in \u001b[0;36m<cell line: 1>\u001b[1;34m()\u001b[0m\n\u001b[1;32m----> <a href='vscode-notebook-cell:/c%3A/Users/fhernandezcortez/Documents/mm/Ironhack/Modulo1/project-pandas/data-wrangling.ipynb#ch0000058?line=0'>1</a>\u001b[0m df[\u001b[39m'\u001b[39;49m\u001b[39mAge\u001b[39;49m\u001b[39m'\u001b[39;49m]\u001b[39m.\u001b[39mfillna(\u001b[39m'\u001b[39m\u001b[39mUnknown\u001b[39m\u001b[39m'\u001b[39m,inplace\u001b[39m=\u001b[39m\u001b[39mTrue\u001b[39;00m)\n",
      "File \u001b[1;32mc:\\Users\\fhernandezcortez\\Anaconda3\\lib\\site-packages\\pandas\\core\\frame.py:3505\u001b[0m, in \u001b[0;36mDataFrame.__getitem__\u001b[1;34m(self, key)\u001b[0m\n\u001b[0;32m   <a href='file:///c%3A/Users/fhernandezcortez/Anaconda3/lib/site-packages/pandas/core/frame.py?line=3502'>3503</a>\u001b[0m \u001b[39mif\u001b[39;00m \u001b[39mself\u001b[39m\u001b[39m.\u001b[39mcolumns\u001b[39m.\u001b[39mnlevels \u001b[39m>\u001b[39m \u001b[39m1\u001b[39m:\n\u001b[0;32m   <a href='file:///c%3A/Users/fhernandezcortez/Anaconda3/lib/site-packages/pandas/core/frame.py?line=3503'>3504</a>\u001b[0m     \u001b[39mreturn\u001b[39;00m \u001b[39mself\u001b[39m\u001b[39m.\u001b[39m_getitem_multilevel(key)\n\u001b[1;32m-> <a href='file:///c%3A/Users/fhernandezcortez/Anaconda3/lib/site-packages/pandas/core/frame.py?line=3504'>3505</a>\u001b[0m indexer \u001b[39m=\u001b[39m \u001b[39mself\u001b[39;49m\u001b[39m.\u001b[39;49mcolumns\u001b[39m.\u001b[39;49mget_loc(key)\n\u001b[0;32m   <a href='file:///c%3A/Users/fhernandezcortez/Anaconda3/lib/site-packages/pandas/core/frame.py?line=3505'>3506</a>\u001b[0m \u001b[39mif\u001b[39;00m is_integer(indexer):\n\u001b[0;32m   <a href='file:///c%3A/Users/fhernandezcortez/Anaconda3/lib/site-packages/pandas/core/frame.py?line=3506'>3507</a>\u001b[0m     indexer \u001b[39m=\u001b[39m [indexer]\n",
      "File \u001b[1;32mc:\\Users\\fhernandezcortez\\Anaconda3\\lib\\site-packages\\pandas\\core\\indexes\\base.py:3623\u001b[0m, in \u001b[0;36mIndex.get_loc\u001b[1;34m(self, key, method, tolerance)\u001b[0m\n\u001b[0;32m   <a href='file:///c%3A/Users/fhernandezcortez/Anaconda3/lib/site-packages/pandas/core/indexes/base.py?line=3620'>3621</a>\u001b[0m     \u001b[39mreturn\u001b[39;00m \u001b[39mself\u001b[39m\u001b[39m.\u001b[39m_engine\u001b[39m.\u001b[39mget_loc(casted_key)\n\u001b[0;32m   <a href='file:///c%3A/Users/fhernandezcortez/Anaconda3/lib/site-packages/pandas/core/indexes/base.py?line=3621'>3622</a>\u001b[0m \u001b[39mexcept\u001b[39;00m \u001b[39mKeyError\u001b[39;00m \u001b[39mas\u001b[39;00m err:\n\u001b[1;32m-> <a href='file:///c%3A/Users/fhernandezcortez/Anaconda3/lib/site-packages/pandas/core/indexes/base.py?line=3622'>3623</a>\u001b[0m     \u001b[39mraise\u001b[39;00m \u001b[39mKeyError\u001b[39;00m(key) \u001b[39mfrom\u001b[39;00m \u001b[39merr\u001b[39;00m\n\u001b[0;32m   <a href='file:///c%3A/Users/fhernandezcortez/Anaconda3/lib/site-packages/pandas/core/indexes/base.py?line=3623'>3624</a>\u001b[0m \u001b[39mexcept\u001b[39;00m \u001b[39mTypeError\u001b[39;00m:\n\u001b[0;32m   <a href='file:///c%3A/Users/fhernandezcortez/Anaconda3/lib/site-packages/pandas/core/indexes/base.py?line=3624'>3625</a>\u001b[0m     \u001b[39m# If we have a listlike key, _check_indexing_error will raise\u001b[39;00m\n\u001b[0;32m   <a href='file:///c%3A/Users/fhernandezcortez/Anaconda3/lib/site-packages/pandas/core/indexes/base.py?line=3625'>3626</a>\u001b[0m     \u001b[39m#  InvalidIndexError. Otherwise we fall through and re-raise\u001b[39;00m\n\u001b[0;32m   <a href='file:///c%3A/Users/fhernandezcortez/Anaconda3/lib/site-packages/pandas/core/indexes/base.py?line=3626'>3627</a>\u001b[0m     \u001b[39m#  the TypeError.\u001b[39;00m\n\u001b[0;32m   <a href='file:///c%3A/Users/fhernandezcortez/Anaconda3/lib/site-packages/pandas/core/indexes/base.py?line=3627'>3628</a>\u001b[0m     \u001b[39mself\u001b[39m\u001b[39m.\u001b[39m_check_indexing_error(key)\n",
      "\u001b[1;31mKeyError\u001b[0m: 'Age'"
     ]
    }
   ],
   "source": [
    "df['Age'].fillna('Unknown',inplace=True)"
   ]
  },
  {
   "cell_type": "code",
   "execution_count": 433,
   "metadata": {},
   "outputs": [],
   "source": [
    "df.rename(columns={'Species ':'Species'}, inplace=True)"
   ]
  },
  {
   "cell_type": "markdown",
   "metadata": {},
   "source": [
    "## Sex column"
   ]
  },
  {
   "cell_type": "code",
   "execution_count": 434,
   "metadata": {},
   "outputs": [],
   "source": [
    "#estandarizar Sex\n",
    "df.rename(columns={'Sex ':'Sex'}, inplace=True)"
   ]
  },
  {
   "cell_type": "code",
   "execution_count": 435,
   "metadata": {},
   "outputs": [
    {
     "data": {
      "text/plain": [
       "{'.', 'F', 'M', 'M ', 'N', 'lli', nan}"
      ]
     },
     "execution_count": 435,
     "metadata": {},
     "output_type": "execute_result"
    }
   ],
   "source": [
    "set(df['Sex'])"
   ]
  },
  {
   "cell_type": "code",
   "execution_count": 436,
   "metadata": {},
   "outputs": [
    {
     "data": {
      "text/plain": [
       "NaN    19986\n",
       "M       5094\n",
       "F        637\n",
       "M          2\n",
       "N          2\n",
       "lli        1\n",
       ".          1\n",
       "Name: Sex, dtype: int64"
      ]
     },
     "execution_count": 436,
     "metadata": {},
     "output_type": "execute_result"
    }
   ],
   "source": [
    "df['Sex'].value_counts(dropna=False)"
   ]
  },
  {
   "cell_type": "code",
   "execution_count": 437,
   "metadata": {},
   "outputs": [
    {
     "name": "stderr",
     "output_type": "stream",
     "text": [
      "C:\\Users\\fhernandezcortez\\AppData\\Local\\Temp\\ipykernel_20028\\111697266.py:2: FutureWarning: The default value of regex will change from True to False in a future version. In addition, single character regular expressions will *not* be treated as literal strings when regex=True.\n",
      "  df['Sex'] = df['Sex'].str.replace('.', 'M')\n"
     ]
    }
   ],
   "source": [
    "df['Sex'] = df['Sex'].str.replace('M ', 'M')\n",
    "df['Sex'] = df['Sex'].str.replace('.', 'M')\n",
    "df['Sex'] = df['Sex'].str.replace('lli', 'M')\n",
    "df['Sex'] = df['Sex'].fillna('U')\n"
   ]
  },
  {
   "cell_type": "code",
   "execution_count": 438,
   "metadata": {},
   "outputs": [],
   "source": [
    "df['Sex'] = df['Sex'].str.replace('N', 'M')"
   ]
  },
  {
   "cell_type": "code",
   "execution_count": 439,
   "metadata": {},
   "outputs": [
    {
     "data": {
      "text/plain": [
       "U    19986\n",
       "M     5100\n",
       "F      637\n",
       "Name: Sex, dtype: int64"
      ]
     },
     "execution_count": 439,
     "metadata": {},
     "output_type": "execute_result"
    }
   ],
   "source": [
    "df['Sex'].value_counts()"
   ]
  },
  {
   "cell_type": "markdown",
   "metadata": {},
   "source": [
    "## Species column"
   ]
  },
  {
   "cell_type": "code",
   "execution_count": 440,
   "metadata": {},
   "outputs": [],
   "source": [
    "df['Species'].fillna('Unknown', inplace=True)"
   ]
  },
  {
   "cell_type": "code",
   "execution_count": 446,
   "metadata": {},
   "outputs": [
    {
     "ename": "ValueError",
     "evalue": "Columns must be same length as key",
     "output_type": "error",
     "traceback": [
      "\u001b[1;31m---------------------------------------------------------------------------\u001b[0m",
      "\u001b[1;31mValueError\u001b[0m                                Traceback (most recent call last)",
      "\u001b[1;32mc:\\Users\\fhernandezcortez\\Documents\\mm\\Ironhack\\Modulo1\\project-pandas\\data-wrangling.ipynb Cell 38'\u001b[0m in \u001b[0;36m<cell line: 1>\u001b[1;34m()\u001b[0m\n\u001b[1;32m----> <a href='vscode-notebook-cell:/c%3A/Users/fhernandezcortez/Documents/mm/Ironhack/Modulo1/project-pandas/data-wrangling.ipynb#ch0000071?line=0'>1</a>\u001b[0m df[\u001b[39m'\u001b[39m\u001b[39mActivity\u001b[39m\u001b[39m'\u001b[39m]\u001b[39m=\u001b[39mdf[(df[\u001b[39m'\u001b[39m\u001b[39mActivity\u001b[39m\u001b[39m'\u001b[39m] \u001b[39m==\u001b[39m \u001b[39m'\u001b[39m\u001b[39mSurfing\u001b[39m\u001b[39m'\u001b[39m) \u001b[39m&\u001b[39m (df[\u001b[39m'\u001b[39m\u001b[39mActivity\u001b[39m\u001b[39m'\u001b[39m] \u001b[39m==\u001b[39m \u001b[39m'\u001b[39m\u001b[39mSwimming\u001b[39m\u001b[39m'\u001b[39m) \u001b[39m&\u001b[39m (df[\u001b[39m'\u001b[39m\u001b[39mActivity\u001b[39m\u001b[39m'\u001b[39m] \u001b[39m==\u001b[39m \u001b[39m'\u001b[39m\u001b[39mFishing\u001b[39m\u001b[39m'\u001b[39m)]\n",
      "File \u001b[1;32mc:\\Users\\fhernandezcortez\\Anaconda3\\lib\\site-packages\\pandas\\core\\frame.py:3645\u001b[0m, in \u001b[0;36mDataFrame.__setitem__\u001b[1;34m(self, key, value)\u001b[0m\n\u001b[0;32m   <a href='file:///c%3A/Users/fhernandezcortez/Anaconda3/lib/site-packages/pandas/core/frame.py?line=3642'>3643</a>\u001b[0m     \u001b[39mself\u001b[39m\u001b[39m.\u001b[39m_setitem_array(key, value)\n\u001b[0;32m   <a href='file:///c%3A/Users/fhernandezcortez/Anaconda3/lib/site-packages/pandas/core/frame.py?line=3643'>3644</a>\u001b[0m \u001b[39melif\u001b[39;00m \u001b[39misinstance\u001b[39m(value, DataFrame):\n\u001b[1;32m-> <a href='file:///c%3A/Users/fhernandezcortez/Anaconda3/lib/site-packages/pandas/core/frame.py?line=3644'>3645</a>\u001b[0m     \u001b[39mself\u001b[39;49m\u001b[39m.\u001b[39;49m_set_item_frame_value(key, value)\n\u001b[0;32m   <a href='file:///c%3A/Users/fhernandezcortez/Anaconda3/lib/site-packages/pandas/core/frame.py?line=3645'>3646</a>\u001b[0m \u001b[39melif\u001b[39;00m (\n\u001b[0;32m   <a href='file:///c%3A/Users/fhernandezcortez/Anaconda3/lib/site-packages/pandas/core/frame.py?line=3646'>3647</a>\u001b[0m     is_list_like(value)\n\u001b[0;32m   <a href='file:///c%3A/Users/fhernandezcortez/Anaconda3/lib/site-packages/pandas/core/frame.py?line=3647'>3648</a>\u001b[0m     \u001b[39mand\u001b[39;00m \u001b[39mnot\u001b[39;00m \u001b[39mself\u001b[39m\u001b[39m.\u001b[39mcolumns\u001b[39m.\u001b[39mis_unique\n\u001b[0;32m   <a href='file:///c%3A/Users/fhernandezcortez/Anaconda3/lib/site-packages/pandas/core/frame.py?line=3648'>3649</a>\u001b[0m     \u001b[39mand\u001b[39;00m \u001b[39m1\u001b[39m \u001b[39m<\u001b[39m \u001b[39mlen\u001b[39m(\u001b[39mself\u001b[39m\u001b[39m.\u001b[39mcolumns\u001b[39m.\u001b[39mget_indexer_for([key])) \u001b[39m==\u001b[39m \u001b[39mlen\u001b[39m(value)\n\u001b[0;32m   <a href='file:///c%3A/Users/fhernandezcortez/Anaconda3/lib/site-packages/pandas/core/frame.py?line=3649'>3650</a>\u001b[0m ):\n\u001b[0;32m   <a href='file:///c%3A/Users/fhernandezcortez/Anaconda3/lib/site-packages/pandas/core/frame.py?line=3650'>3651</a>\u001b[0m     \u001b[39m# Column to set is duplicated\u001b[39;00m\n\u001b[0;32m   <a href='file:///c%3A/Users/fhernandezcortez/Anaconda3/lib/site-packages/pandas/core/frame.py?line=3651'>3652</a>\u001b[0m     \u001b[39mself\u001b[39m\u001b[39m.\u001b[39m_setitem_array([key], value)\n",
      "File \u001b[1;32mc:\\Users\\fhernandezcortez\\Anaconda3\\lib\\site-packages\\pandas\\core\\frame.py:3775\u001b[0m, in \u001b[0;36mDataFrame._set_item_frame_value\u001b[1;34m(self, key, value)\u001b[0m\n\u001b[0;32m   <a href='file:///c%3A/Users/fhernandezcortez/Anaconda3/lib/site-packages/pandas/core/frame.py?line=3772'>3773</a>\u001b[0m len_cols \u001b[39m=\u001b[39m \u001b[39m1\u001b[39m \u001b[39mif\u001b[39;00m is_scalar(cols) \u001b[39melse\u001b[39;00m \u001b[39mlen\u001b[39m(cols)\n\u001b[0;32m   <a href='file:///c%3A/Users/fhernandezcortez/Anaconda3/lib/site-packages/pandas/core/frame.py?line=3773'>3774</a>\u001b[0m \u001b[39mif\u001b[39;00m len_cols \u001b[39m!=\u001b[39m \u001b[39mlen\u001b[39m(value\u001b[39m.\u001b[39mcolumns):\n\u001b[1;32m-> <a href='file:///c%3A/Users/fhernandezcortez/Anaconda3/lib/site-packages/pandas/core/frame.py?line=3774'>3775</a>\u001b[0m     \u001b[39mraise\u001b[39;00m \u001b[39mValueError\u001b[39;00m(\u001b[39m\"\u001b[39m\u001b[39mColumns must be same length as key\u001b[39m\u001b[39m\"\u001b[39m)\n\u001b[0;32m   <a href='file:///c%3A/Users/fhernandezcortez/Anaconda3/lib/site-packages/pandas/core/frame.py?line=3776'>3777</a>\u001b[0m \u001b[39m# align right-hand-side columns if self.columns\u001b[39;00m\n\u001b[0;32m   <a href='file:///c%3A/Users/fhernandezcortez/Anaconda3/lib/site-packages/pandas/core/frame.py?line=3777'>3778</a>\u001b[0m \u001b[39m# is multi-index and self[key] is a sub-frame\u001b[39;00m\n\u001b[0;32m   <a href='file:///c%3A/Users/fhernandezcortez/Anaconda3/lib/site-packages/pandas/core/frame.py?line=3778'>3779</a>\u001b[0m \u001b[39mif\u001b[39;00m \u001b[39misinstance\u001b[39m(\u001b[39mself\u001b[39m\u001b[39m.\u001b[39mcolumns, MultiIndex) \u001b[39mand\u001b[39;00m \u001b[39misinstance\u001b[39m(\n\u001b[0;32m   <a href='file:///c%3A/Users/fhernandezcortez/Anaconda3/lib/site-packages/pandas/core/frame.py?line=3779'>3780</a>\u001b[0m     loc, (\u001b[39mslice\u001b[39m, Series, np\u001b[39m.\u001b[39mndarray, Index)\n\u001b[0;32m   <a href='file:///c%3A/Users/fhernandezcortez/Anaconda3/lib/site-packages/pandas/core/frame.py?line=3780'>3781</a>\u001b[0m ):\n",
      "\u001b[1;31mValueError\u001b[0m: Columns must be same length as key"
     ]
    }
   ],
   "source": [
    "\n",
    "\n",
    "df['Activity']=df[(df['Activity'] == 'Surfing') & (df['Activity'] == 'Swimming') & (df['Activity'] == 'Fishing')]\n"
   ]
  },
  {
   "cell_type": "markdown",
   "metadata": {},
   "source": [
    "## Activities column"
   ]
  },
  {
   "cell_type": "code",
   "execution_count": 407,
   "metadata": {},
   "outputs": [
    {
     "ename": "AttributeError",
     "evalue": "Can only use .str accessor with string values!",
     "output_type": "error",
     "traceback": [
      "\u001b[1;31m---------------------------------------------------------------------------\u001b[0m",
      "\u001b[1;31mAttributeError\u001b[0m                            Traceback (most recent call last)",
      "\u001b[1;32mc:\\Users\\fhernandezcortez\\Documents\\mm\\Ironhack\\Modulo1\\project-pandas\\data-wrangling.ipynb Cell 39'\u001b[0m in \u001b[0;36m<cell line: 5>\u001b[1;34m()\u001b[0m\n\u001b[0;32m      <a href='vscode-notebook-cell:/c%3A/Users/fhernandezcortez/Documents/mm/Ironhack/Modulo1/project-pandas/data-wrangling.ipynb#ch0000067?line=0'>1</a>\u001b[0m \u001b[39m#df['Activity'] = df[~df.Activity.str.contains(' ')].reset_index(drop=True)\u001b[39;00m\n\u001b[0;32m      <a href='vscode-notebook-cell:/c%3A/Users/fhernandezcortez/Documents/mm/Ironhack/Modulo1/project-pandas/data-wrangling.ipynb#ch0000067?line=2'>3</a>\u001b[0m df[\u001b[39m'\u001b[39m\u001b[39mActivity\u001b[39m\u001b[39m'\u001b[39m]\u001b[39m.\u001b[39mfillna(\u001b[39m'\u001b[39m\u001b[39mUnknown\u001b[39m\u001b[39m'\u001b[39m, inplace\u001b[39m=\u001b[39m\u001b[39mTrue\u001b[39;00m)\n\u001b[1;32m----> <a href='vscode-notebook-cell:/c%3A/Users/fhernandezcortez/Documents/mm/Ironhack/Modulo1/project-pandas/data-wrangling.ipynb#ch0000067?line=4'>5</a>\u001b[0m df[\u001b[39m'\u001b[39m\u001b[39mActivity\u001b[39m\u001b[39m'\u001b[39m] \u001b[39m=\u001b[39m df[\u001b[39m'\u001b[39;49m\u001b[39mActivity\u001b[39;49m\u001b[39m'\u001b[39;49m]\u001b[39m.\u001b[39;49mstr\u001b[39m.\u001b[39mcontains(\u001b[39m'\u001b[39m\u001b[39m \u001b[39m\u001b[39m'\u001b[39m)\u001b[39m.\u001b[39mreset_index(drop\u001b[39m=\u001b[39m\u001b[39mTrue\u001b[39;00m)\n\u001b[0;32m      <a href='vscode-notebook-cell:/c%3A/Users/fhernandezcortez/Documents/mm/Ironhack/Modulo1/project-pandas/data-wrangling.ipynb#ch0000067?line=5'>6</a>\u001b[0m df[\u001b[39m'\u001b[39m\u001b[39mActivity\u001b[39m\u001b[39m'\u001b[39m]\u001b[39m.\u001b[39mvalue_counts()\n",
      "File \u001b[1;32mc:\\Users\\fhernandezcortez\\Anaconda3\\lib\\site-packages\\pandas\\core\\generic.py:5575\u001b[0m, in \u001b[0;36mNDFrame.__getattr__\u001b[1;34m(self, name)\u001b[0m\n\u001b[0;32m   <a href='file:///c%3A/Users/fhernandezcortez/Anaconda3/lib/site-packages/pandas/core/generic.py?line=5567'>5568</a>\u001b[0m \u001b[39mif\u001b[39;00m (\n\u001b[0;32m   <a href='file:///c%3A/Users/fhernandezcortez/Anaconda3/lib/site-packages/pandas/core/generic.py?line=5568'>5569</a>\u001b[0m     name \u001b[39mnot\u001b[39;00m \u001b[39min\u001b[39;00m \u001b[39mself\u001b[39m\u001b[39m.\u001b[39m_internal_names_set\n\u001b[0;32m   <a href='file:///c%3A/Users/fhernandezcortez/Anaconda3/lib/site-packages/pandas/core/generic.py?line=5569'>5570</a>\u001b[0m     \u001b[39mand\u001b[39;00m name \u001b[39mnot\u001b[39;00m \u001b[39min\u001b[39;00m \u001b[39mself\u001b[39m\u001b[39m.\u001b[39m_metadata\n\u001b[0;32m   <a href='file:///c%3A/Users/fhernandezcortez/Anaconda3/lib/site-packages/pandas/core/generic.py?line=5570'>5571</a>\u001b[0m     \u001b[39mand\u001b[39;00m name \u001b[39mnot\u001b[39;00m \u001b[39min\u001b[39;00m \u001b[39mself\u001b[39m\u001b[39m.\u001b[39m_accessors\n\u001b[0;32m   <a href='file:///c%3A/Users/fhernandezcortez/Anaconda3/lib/site-packages/pandas/core/generic.py?line=5571'>5572</a>\u001b[0m     \u001b[39mand\u001b[39;00m \u001b[39mself\u001b[39m\u001b[39m.\u001b[39m_info_axis\u001b[39m.\u001b[39m_can_hold_identifiers_and_holds_name(name)\n\u001b[0;32m   <a href='file:///c%3A/Users/fhernandezcortez/Anaconda3/lib/site-packages/pandas/core/generic.py?line=5572'>5573</a>\u001b[0m ):\n\u001b[0;32m   <a href='file:///c%3A/Users/fhernandezcortez/Anaconda3/lib/site-packages/pandas/core/generic.py?line=5573'>5574</a>\u001b[0m     \u001b[39mreturn\u001b[39;00m \u001b[39mself\u001b[39m[name]\n\u001b[1;32m-> <a href='file:///c%3A/Users/fhernandezcortez/Anaconda3/lib/site-packages/pandas/core/generic.py?line=5574'>5575</a>\u001b[0m \u001b[39mreturn\u001b[39;00m \u001b[39mobject\u001b[39;49m\u001b[39m.\u001b[39;49m\u001b[39m__getattribute__\u001b[39;49m(\u001b[39mself\u001b[39;49m, name)\n",
      "File \u001b[1;32mc:\\Users\\fhernandezcortez\\Anaconda3\\lib\\site-packages\\pandas\\core\\accessor.py:182\u001b[0m, in \u001b[0;36mCachedAccessor.__get__\u001b[1;34m(self, obj, cls)\u001b[0m\n\u001b[0;32m    <a href='file:///c%3A/Users/fhernandezcortez/Anaconda3/lib/site-packages/pandas/core/accessor.py?line=178'>179</a>\u001b[0m \u001b[39mif\u001b[39;00m obj \u001b[39mis\u001b[39;00m \u001b[39mNone\u001b[39;00m:\n\u001b[0;32m    <a href='file:///c%3A/Users/fhernandezcortez/Anaconda3/lib/site-packages/pandas/core/accessor.py?line=179'>180</a>\u001b[0m     \u001b[39m# we're accessing the attribute of the class, i.e., Dataset.geo\u001b[39;00m\n\u001b[0;32m    <a href='file:///c%3A/Users/fhernandezcortez/Anaconda3/lib/site-packages/pandas/core/accessor.py?line=180'>181</a>\u001b[0m     \u001b[39mreturn\u001b[39;00m \u001b[39mself\u001b[39m\u001b[39m.\u001b[39m_accessor\n\u001b[1;32m--> <a href='file:///c%3A/Users/fhernandezcortez/Anaconda3/lib/site-packages/pandas/core/accessor.py?line=181'>182</a>\u001b[0m accessor_obj \u001b[39m=\u001b[39m \u001b[39mself\u001b[39;49m\u001b[39m.\u001b[39;49m_accessor(obj)\n\u001b[0;32m    <a href='file:///c%3A/Users/fhernandezcortez/Anaconda3/lib/site-packages/pandas/core/accessor.py?line=182'>183</a>\u001b[0m \u001b[39m# Replace the property with the accessor object. Inspired by:\u001b[39;00m\n\u001b[0;32m    <a href='file:///c%3A/Users/fhernandezcortez/Anaconda3/lib/site-packages/pandas/core/accessor.py?line=183'>184</a>\u001b[0m \u001b[39m# https://www.pydanny.com/cached-property.html\u001b[39;00m\n\u001b[0;32m    <a href='file:///c%3A/Users/fhernandezcortez/Anaconda3/lib/site-packages/pandas/core/accessor.py?line=184'>185</a>\u001b[0m \u001b[39m# We need to use object.__setattr__ because we overwrite __setattr__ on\u001b[39;00m\n\u001b[0;32m    <a href='file:///c%3A/Users/fhernandezcortez/Anaconda3/lib/site-packages/pandas/core/accessor.py?line=185'>186</a>\u001b[0m \u001b[39m# NDFrame\u001b[39;00m\n\u001b[0;32m    <a href='file:///c%3A/Users/fhernandezcortez/Anaconda3/lib/site-packages/pandas/core/accessor.py?line=186'>187</a>\u001b[0m \u001b[39mobject\u001b[39m\u001b[39m.\u001b[39m\u001b[39m__setattr__\u001b[39m(obj, \u001b[39mself\u001b[39m\u001b[39m.\u001b[39m_name, accessor_obj)\n",
      "File \u001b[1;32mc:\\Users\\fhernandezcortez\\Anaconda3\\lib\\site-packages\\pandas\\core\\strings\\accessor.py:177\u001b[0m, in \u001b[0;36mStringMethods.__init__\u001b[1;34m(self, data)\u001b[0m\n\u001b[0;32m    <a href='file:///c%3A/Users/fhernandezcortez/Anaconda3/lib/site-packages/pandas/core/strings/accessor.py?line=173'>174</a>\u001b[0m \u001b[39mdef\u001b[39;00m \u001b[39m__init__\u001b[39m(\u001b[39mself\u001b[39m, data):\n\u001b[0;32m    <a href='file:///c%3A/Users/fhernandezcortez/Anaconda3/lib/site-packages/pandas/core/strings/accessor.py?line=174'>175</a>\u001b[0m     \u001b[39mfrom\u001b[39;00m \u001b[39mpandas\u001b[39;00m\u001b[39m.\u001b[39;00m\u001b[39mcore\u001b[39;00m\u001b[39m.\u001b[39;00m\u001b[39marrays\u001b[39;00m\u001b[39m.\u001b[39;00m\u001b[39mstring_\u001b[39;00m \u001b[39mimport\u001b[39;00m StringDtype\n\u001b[1;32m--> <a href='file:///c%3A/Users/fhernandezcortez/Anaconda3/lib/site-packages/pandas/core/strings/accessor.py?line=176'>177</a>\u001b[0m     \u001b[39mself\u001b[39m\u001b[39m.\u001b[39m_inferred_dtype \u001b[39m=\u001b[39m \u001b[39mself\u001b[39;49m\u001b[39m.\u001b[39;49m_validate(data)\n\u001b[0;32m    <a href='file:///c%3A/Users/fhernandezcortez/Anaconda3/lib/site-packages/pandas/core/strings/accessor.py?line=177'>178</a>\u001b[0m     \u001b[39mself\u001b[39m\u001b[39m.\u001b[39m_is_categorical \u001b[39m=\u001b[39m is_categorical_dtype(data\u001b[39m.\u001b[39mdtype)\n\u001b[0;32m    <a href='file:///c%3A/Users/fhernandezcortez/Anaconda3/lib/site-packages/pandas/core/strings/accessor.py?line=178'>179</a>\u001b[0m     \u001b[39mself\u001b[39m\u001b[39m.\u001b[39m_is_string \u001b[39m=\u001b[39m \u001b[39misinstance\u001b[39m(data\u001b[39m.\u001b[39mdtype, StringDtype)\n",
      "File \u001b[1;32mc:\\Users\\fhernandezcortez\\Anaconda3\\lib\\site-packages\\pandas\\core\\strings\\accessor.py:231\u001b[0m, in \u001b[0;36mStringMethods._validate\u001b[1;34m(data)\u001b[0m\n\u001b[0;32m    <a href='file:///c%3A/Users/fhernandezcortez/Anaconda3/lib/site-packages/pandas/core/strings/accessor.py?line=227'>228</a>\u001b[0m inferred_dtype \u001b[39m=\u001b[39m lib\u001b[39m.\u001b[39minfer_dtype(values, skipna\u001b[39m=\u001b[39m\u001b[39mTrue\u001b[39;00m)\n\u001b[0;32m    <a href='file:///c%3A/Users/fhernandezcortez/Anaconda3/lib/site-packages/pandas/core/strings/accessor.py?line=229'>230</a>\u001b[0m \u001b[39mif\u001b[39;00m inferred_dtype \u001b[39mnot\u001b[39;00m \u001b[39min\u001b[39;00m allowed_types:\n\u001b[1;32m--> <a href='file:///c%3A/Users/fhernandezcortez/Anaconda3/lib/site-packages/pandas/core/strings/accessor.py?line=230'>231</a>\u001b[0m     \u001b[39mraise\u001b[39;00m \u001b[39mAttributeError\u001b[39;00m(\u001b[39m\"\u001b[39m\u001b[39mCan only use .str accessor with string values!\u001b[39m\u001b[39m\"\u001b[39m)\n\u001b[0;32m    <a href='file:///c%3A/Users/fhernandezcortez/Anaconda3/lib/site-packages/pandas/core/strings/accessor.py?line=231'>232</a>\u001b[0m \u001b[39mreturn\u001b[39;00m inferred_dtype\n",
      "\u001b[1;31mAttributeError\u001b[0m: Can only use .str accessor with string values!"
     ]
    }
   ],
   "source": [
    "#df['Activity'] = df[~df.Activity.str.contains(' ')].reset_index(drop=True)\n",
    "\n",
    "df['Activity'].fillna('Unknown', inplace=True)\n",
    "\n",
    "df['Activity'] = df['Activity'].str.contains(' ').reset_index(drop=True)"
   ]
  },
  {
   "cell_type": "code",
   "execution_count": 409,
   "metadata": {},
   "outputs": [
    {
     "data": {
      "text/plain": [
       "array([False,  True])"
      ]
     },
     "execution_count": 409,
     "metadata": {},
     "output_type": "execute_result"
    }
   ],
   "source": [
    "df['Activity'].unique()"
   ]
  },
  {
   "cell_type": "code",
   "execution_count": 361,
   "metadata": {},
   "outputs": [
    {
     "ename": "ValueError",
     "evalue": "Columns must be same length as key",
     "output_type": "error",
     "traceback": [
      "\u001b[1;31m---------------------------------------------------------------------------\u001b[0m",
      "\u001b[1;31mValueError\u001b[0m                                Traceback (most recent call last)",
      "\u001b[1;32mc:\\Users\\fhernandezcortez\\Documents\\mm\\Ironhack\\Modulo1\\project-pandas\\data-wrangling.ipynb Cell 40'\u001b[0m in \u001b[0;36m<cell line: 5>\u001b[1;34m()\u001b[0m\n\u001b[0;32m      <a href='vscode-notebook-cell:/c%3A/Users/fhernandezcortez/Documents/mm/Ironhack/Modulo1/project-pandas/data-wrangling.ipynb#ch0000044?line=2'>3</a>\u001b[0m filter_3 \u001b[39m=\u001b[39m (df[\u001b[39m'\u001b[39m\u001b[39mInjury\u001b[39m\u001b[39m'\u001b[39m]\u001b[39m.\u001b[39mstr\u001b[39m.\u001b[39mcontains(\u001b[39m'\u001b[39m\u001b[39moff board \u001b[39m\u001b[39m'\u001b[39m, na\u001b[39m=\u001b[39m\u001b[39mFalse\u001b[39;00m, regex\u001b[39m=\u001b[39m\u001b[39mFalse\u001b[39;00m))\n\u001b[0;32m      <a href='vscode-notebook-cell:/c%3A/Users/fhernandezcortez/Documents/mm/Ironhack/Modulo1/project-pandas/data-wrangling.ipynb#ch0000044?line=3'>4</a>\u001b[0m filter_4 \u001b[39m=\u001b[39m (df[\u001b[39m'\u001b[39m\u001b[39mInjury\u001b[39m\u001b[39m'\u001b[39m]\u001b[39m.\u001b[39mstr\u001b[39m.\u001b[39mcontains(\u001b[39m'\u001b[39m\u001b[39m surfer \u001b[39m\u001b[39m'\u001b[39m, na\u001b[39m=\u001b[39m\u001b[39mFalse\u001b[39;00m, regex\u001b[39m=\u001b[39m\u001b[39mFalse\u001b[39;00m))\n\u001b[1;32m----> <a href='vscode-notebook-cell:/c%3A/Users/fhernandezcortez/Documents/mm/Ironhack/Modulo1/project-pandas/data-wrangling.ipynb#ch0000044?line=4'>5</a>\u001b[0m df[\u001b[39m'\u001b[39m\u001b[39mInjury\u001b[39m\u001b[39m'\u001b[39m] \u001b[39m=\u001b[39m df[filter_1 \u001b[39m&\u001b[39m \u001b[39m~\u001b[39mfilter_2 \u001b[39m&\u001b[39m \u001b[39m~\u001b[39mfilter_3 \u001b[39m&\u001b[39m filter_4]\n",
      "File \u001b[1;32mc:\\Users\\fhernandezcortez\\Anaconda3\\lib\\site-packages\\pandas\\core\\frame.py:3645\u001b[0m, in \u001b[0;36mDataFrame.__setitem__\u001b[1;34m(self, key, value)\u001b[0m\n\u001b[0;32m   <a href='file:///c%3A/Users/fhernandezcortez/Anaconda3/lib/site-packages/pandas/core/frame.py?line=3642'>3643</a>\u001b[0m     \u001b[39mself\u001b[39m\u001b[39m.\u001b[39m_setitem_array(key, value)\n\u001b[0;32m   <a href='file:///c%3A/Users/fhernandezcortez/Anaconda3/lib/site-packages/pandas/core/frame.py?line=3643'>3644</a>\u001b[0m \u001b[39melif\u001b[39;00m \u001b[39misinstance\u001b[39m(value, DataFrame):\n\u001b[1;32m-> <a href='file:///c%3A/Users/fhernandezcortez/Anaconda3/lib/site-packages/pandas/core/frame.py?line=3644'>3645</a>\u001b[0m     \u001b[39mself\u001b[39;49m\u001b[39m.\u001b[39;49m_set_item_frame_value(key, value)\n\u001b[0;32m   <a href='file:///c%3A/Users/fhernandezcortez/Anaconda3/lib/site-packages/pandas/core/frame.py?line=3645'>3646</a>\u001b[0m \u001b[39melif\u001b[39;00m (\n\u001b[0;32m   <a href='file:///c%3A/Users/fhernandezcortez/Anaconda3/lib/site-packages/pandas/core/frame.py?line=3646'>3647</a>\u001b[0m     is_list_like(value)\n\u001b[0;32m   <a href='file:///c%3A/Users/fhernandezcortez/Anaconda3/lib/site-packages/pandas/core/frame.py?line=3647'>3648</a>\u001b[0m     \u001b[39mand\u001b[39;00m \u001b[39mnot\u001b[39;00m \u001b[39mself\u001b[39m\u001b[39m.\u001b[39mcolumns\u001b[39m.\u001b[39mis_unique\n\u001b[0;32m   <a href='file:///c%3A/Users/fhernandezcortez/Anaconda3/lib/site-packages/pandas/core/frame.py?line=3648'>3649</a>\u001b[0m     \u001b[39mand\u001b[39;00m \u001b[39m1\u001b[39m \u001b[39m<\u001b[39m \u001b[39mlen\u001b[39m(\u001b[39mself\u001b[39m\u001b[39m.\u001b[39mcolumns\u001b[39m.\u001b[39mget_indexer_for([key])) \u001b[39m==\u001b[39m \u001b[39mlen\u001b[39m(value)\n\u001b[0;32m   <a href='file:///c%3A/Users/fhernandezcortez/Anaconda3/lib/site-packages/pandas/core/frame.py?line=3649'>3650</a>\u001b[0m ):\n\u001b[0;32m   <a href='file:///c%3A/Users/fhernandezcortez/Anaconda3/lib/site-packages/pandas/core/frame.py?line=3650'>3651</a>\u001b[0m     \u001b[39m# Column to set is duplicated\u001b[39;00m\n\u001b[0;32m   <a href='file:///c%3A/Users/fhernandezcortez/Anaconda3/lib/site-packages/pandas/core/frame.py?line=3651'>3652</a>\u001b[0m     \u001b[39mself\u001b[39m\u001b[39m.\u001b[39m_setitem_array([key], value)\n",
      "File \u001b[1;32mc:\\Users\\fhernandezcortez\\Anaconda3\\lib\\site-packages\\pandas\\core\\frame.py:3775\u001b[0m, in \u001b[0;36mDataFrame._set_item_frame_value\u001b[1;34m(self, key, value)\u001b[0m\n\u001b[0;32m   <a href='file:///c%3A/Users/fhernandezcortez/Anaconda3/lib/site-packages/pandas/core/frame.py?line=3772'>3773</a>\u001b[0m len_cols \u001b[39m=\u001b[39m \u001b[39m1\u001b[39m \u001b[39mif\u001b[39;00m is_scalar(cols) \u001b[39melse\u001b[39;00m \u001b[39mlen\u001b[39m(cols)\n\u001b[0;32m   <a href='file:///c%3A/Users/fhernandezcortez/Anaconda3/lib/site-packages/pandas/core/frame.py?line=3773'>3774</a>\u001b[0m \u001b[39mif\u001b[39;00m len_cols \u001b[39m!=\u001b[39m \u001b[39mlen\u001b[39m(value\u001b[39m.\u001b[39mcolumns):\n\u001b[1;32m-> <a href='file:///c%3A/Users/fhernandezcortez/Anaconda3/lib/site-packages/pandas/core/frame.py?line=3774'>3775</a>\u001b[0m     \u001b[39mraise\u001b[39;00m \u001b[39mValueError\u001b[39;00m(\u001b[39m\"\u001b[39m\u001b[39mColumns must be same length as key\u001b[39m\u001b[39m\"\u001b[39m)\n\u001b[0;32m   <a href='file:///c%3A/Users/fhernandezcortez/Anaconda3/lib/site-packages/pandas/core/frame.py?line=3776'>3777</a>\u001b[0m \u001b[39m# align right-hand-side columns if self.columns\u001b[39;00m\n\u001b[0;32m   <a href='file:///c%3A/Users/fhernandezcortez/Anaconda3/lib/site-packages/pandas/core/frame.py?line=3777'>3778</a>\u001b[0m \u001b[39m# is multi-index and self[key] is a sub-frame\u001b[39;00m\n\u001b[0;32m   <a href='file:///c%3A/Users/fhernandezcortez/Anaconda3/lib/site-packages/pandas/core/frame.py?line=3778'>3779</a>\u001b[0m \u001b[39mif\u001b[39;00m \u001b[39misinstance\u001b[39m(\u001b[39mself\u001b[39m\u001b[39m.\u001b[39mcolumns, MultiIndex) \u001b[39mand\u001b[39;00m \u001b[39misinstance\u001b[39m(\n\u001b[0;32m   <a href='file:///c%3A/Users/fhernandezcortez/Anaconda3/lib/site-packages/pandas/core/frame.py?line=3779'>3780</a>\u001b[0m     loc, (\u001b[39mslice\u001b[39m, Series, np\u001b[39m.\u001b[39mndarray, Index)\n\u001b[0;32m   <a href='file:///c%3A/Users/fhernandezcortez/Anaconda3/lib/site-packages/pandas/core/frame.py?line=3780'>3781</a>\u001b[0m ):\n",
      "\u001b[1;31mValueError\u001b[0m: Columns must be same length as key"
     ]
    }
   ],
   "source": [
    "filter_1 = (df['Injury'].str.contains(' board ', na=False, regex=False))\n",
    "filter_2 = (df['Injury'].str.contains('on board ', na=False, regex=False))\n",
    "filter_3 = (df['Injury'].str.contains('off board ', na=False, regex=False))\n",
    "filter_4 = (df['Injury'].str.contains(' surfer ', na=False, regex=False))\n",
    "df['Injury'] = df[filter_1 & ~filter_2 & ~filter_3 & filter_4]\n",
    "# ~se utiliza para negar una condición"
   ]
  },
  {
   "cell_type": "code",
   "execution_count": null,
   "metadata": {},
   "outputs": [],
   "source": []
  },
  {
   "cell_type": "code",
   "execution_count": null,
   "metadata": {},
   "outputs": [],
   "source": []
  },
  {
   "cell_type": "code",
   "execution_count": null,
   "metadata": {},
   "outputs": [],
   "source": []
  },
  {
   "cell_type": "code",
   "execution_count": null,
   "metadata": {},
   "outputs": [],
   "source": []
  },
  {
   "cell_type": "code",
   "execution_count": null,
   "metadata": {},
   "outputs": [],
   "source": []
  },
  {
   "cell_type": "code",
   "execution_count": null,
   "metadata": {},
   "outputs": [],
   "source": []
  },
  {
   "cell_type": "code",
   "execution_count": null,
   "metadata": {},
   "outputs": [],
   "source": []
  },
  {
   "cell_type": "code",
   "execution_count": null,
   "metadata": {},
   "outputs": [],
   "source": []
  }
 ],
 "metadata": {
  "interpreter": {
   "hash": "aa312d4c887fa677f565e7f94d25e9c28ea5c2a3c7d98c86ca69bb28e8416d37"
  },
  "kernelspec": {
   "display_name": "Python 3.9.12 ('base')",
   "language": "python",
   "name": "python3"
  },
  "language_info": {
   "codemirror_mode": {
    "name": "ipython",
    "version": 3
   },
   "file_extension": ".py",
   "mimetype": "text/x-python",
   "name": "python",
   "nbconvert_exporter": "python",
   "pygments_lexer": "ipython3",
   "version": "3.9.12"
  },
  "orig_nbformat": 4
 },
 "nbformat": 4,
 "nbformat_minor": 2
}
